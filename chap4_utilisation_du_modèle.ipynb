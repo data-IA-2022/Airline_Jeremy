{
 "cells": [
  {
   "attachments": {},
   "cell_type": "markdown",
   "metadata": {},
   "source": [
    "# Chapitre 4 : Prédiction\n",
    "---"
   ]
  },
  {
   "cell_type": "code",
   "execution_count": 23,
   "metadata": {},
   "outputs": [],
   "source": [
    "# Imports\n",
    "import pandas as pd\n",
    "import joblib\n"
   ]
  },
  {
   "cell_type": "code",
   "execution_count": null,
   "metadata": {},
   "outputs": [],
   "source": [
    "# Charger le meilleur modèle à partir du fichier\n",
    "best_model = joblib.load('best_model.joblib')"
   ]
  },
  {
   "cell_type": "code",
   "execution_count": 26,
   "metadata": {},
   "outputs": [
    {
     "data": {
      "text/html": [
       "<div>\n",
       "<style scoped>\n",
       "    .dataframe tbody tr th:only-of-type {\n",
       "        vertical-align: middle;\n",
       "    }\n",
       "\n",
       "    .dataframe tbody tr th {\n",
       "        vertical-align: top;\n",
       "    }\n",
       "\n",
       "    .dataframe thead th {\n",
       "        text-align: right;\n",
       "    }\n",
       "</style>\n",
       "<table border=\"1\" class=\"dataframe\">\n",
       "  <thead>\n",
       "    <tr style=\"text-align: right;\">\n",
       "      <th></th>\n",
       "      <th>Gender</th>\n",
       "      <th>Customer_Type</th>\n",
       "      <th>Type_of_Travel</th>\n",
       "      <th>Class</th>\n",
       "      <th>Age</th>\n",
       "      <th>Flight_Distance</th>\n",
       "      <th>Seat_comfort</th>\n",
       "      <th>Departure_Arrival_time_convenient</th>\n",
       "      <th>Food_and_drink</th>\n",
       "      <th>Gate_location</th>\n",
       "      <th>...</th>\n",
       "      <th>Online_support</th>\n",
       "      <th>Ease_of_Online_booking</th>\n",
       "      <th>On_board_service</th>\n",
       "      <th>Leg_room_service</th>\n",
       "      <th>Baggage_handling</th>\n",
       "      <th>Checkin_service</th>\n",
       "      <th>Cleanliness</th>\n",
       "      <th>Online_boarding</th>\n",
       "      <th>Departure_Delay_in_Minutes</th>\n",
       "      <th>Arrival_Delay_in_Minutes</th>\n",
       "    </tr>\n",
       "  </thead>\n",
       "  <tbody>\n",
       "    <tr>\n",
       "      <th>0</th>\n",
       "      <td>Male</td>\n",
       "      <td>Loyal Customer</td>\n",
       "      <td>Business</td>\n",
       "      <td>Eco Plus</td>\n",
       "      <td>46</td>\n",
       "      <td>2464</td>\n",
       "      <td>4</td>\n",
       "      <td>5</td>\n",
       "      <td>3</td>\n",
       "      <td>2</td>\n",
       "      <td>...</td>\n",
       "      <td>3</td>\n",
       "      <td>5</td>\n",
       "      <td>3</td>\n",
       "      <td>2</td>\n",
       "      <td>2</td>\n",
       "      <td>2</td>\n",
       "      <td>2</td>\n",
       "      <td>2</td>\n",
       "      <td>310</td>\n",
       "      <td>310</td>\n",
       "    </tr>\n",
       "  </tbody>\n",
       "</table>\n",
       "<p>1 rows × 22 columns</p>\n",
       "</div>"
      ],
      "text/plain": [
       "  Gender   Customer_Type Type_of_Travel     Class  Age  Flight_Distance   \n",
       "0   Male  Loyal Customer       Business  Eco Plus   46             2464  \\\n",
       "\n",
       "   Seat_comfort  Departure_Arrival_time_convenient  Food_and_drink   \n",
       "0             4                                  5               3  \\\n",
       "\n",
       "   Gate_location  ...  Online_support  Ease_of_Online_booking   \n",
       "0              2  ...               3                       5  \\\n",
       "\n",
       "   On_board_service  Leg_room_service  Baggage_handling  Checkin_service   \n",
       "0                 3                 2                 2                2  \\\n",
       "\n",
       "   Cleanliness  Online_boarding  Departure_Delay_in_Minutes   \n",
       "0            2                2                         310  \\\n",
       "\n",
       "   Arrival_Delay_in_Minutes  \n",
       "0                       310  \n",
       "\n",
       "[1 rows x 22 columns]"
      ]
     },
     "execution_count": 26,
     "metadata": {},
     "output_type": "execute_result"
    }
   ],
   "source": [
    "# Entrer des éléments d'entrée pour la prédiction pourrait être remplacer par un formulaire !\n",
    "\n",
    "input_data = {\n",
    "    'Gender': 'Male', \n",
    "    'Customer_Type': 'Loyal Customer', \n",
    "    'Type_of_Travel': 'Business', \n",
    "    'Class': 'Eco Plus', \n",
    "    'Age': 46, \n",
    "    'Flight_Distance': 2464, \n",
    "    'Seat_comfort': 4, \n",
    "    'Departure_Arrival_time_convenient': 5, \n",
    "    'Food_and_drink': 3,\n",
    "    'Gate_location': 2, \n",
    "    'Inflight_wifi_service': 5, \n",
    "    'Inflight_entertainment': 4, \n",
    "    'Online_support': 3, \n",
    "    'Ease_of_Online_booking': 5, \n",
    "    'On_board_service': 3, \n",
    "    'Leg_room_service': 2, \n",
    "    'Baggage_handling': 2, \n",
    "    'Checkin_service': 2, \n",
    "    'Cleanliness': 2, \n",
    "    'Online_boarding': 2, \n",
    "    'Departure_Delay_in_Minutes': 310, \n",
    "    'Arrival_Delay_in_Minutes': 310\n",
    "}\n",
    "\n",
    "# Convertir les éléments d'entrée en dataframe\n",
    "input_df = pd.DataFrame([input_data])\n",
    "input_df"
   ]
  },
  {
   "cell_type": "code",
   "execution_count": 27,
   "metadata": {},
   "outputs": [
    {
     "name": "stdout",
     "output_type": "stream",
     "text": [
      "Le client est neutre voir non satisfait\n"
     ]
    }
   ],
   "source": [
    "# Faire la prédiction\n",
    "prediction = best_model.predict(input_df)\n",
    "\n",
    "if prediction == 'neutral or dissatisfied':\n",
    "    print(\"Le client est neutre voir non satisfait\")\n",
    "else:\n",
    "    print(\"Le client est satisfait\")"
   ]
  }
 ],
 "metadata": {
  "kernelspec": {
   "display_name": "env_sentiment_analysis",
   "language": "python",
   "name": "python3"
  },
  "language_info": {
   "codemirror_mode": {
    "name": "ipython",
    "version": 3
   },
   "file_extension": ".py",
   "mimetype": "text/x-python",
   "name": "python",
   "nbconvert_exporter": "python",
   "pygments_lexer": "ipython3",
   "version": "3.11.0rc1"
  },
  "orig_nbformat": 4
 },
 "nbformat": 4,
 "nbformat_minor": 2
}
