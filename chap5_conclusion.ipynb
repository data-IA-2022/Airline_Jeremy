{
 "cells": [
  {
   "attachments": {},
   "cell_type": "markdown",
   "metadata": {},
   "source": [
    "# Chapitre 5 : Conclusion\n",
    "\n",
    "Le but du projet était de pouvoir d'après un type de personne et les notes d'évaluation qu'il donnais, si la peronne allais cocher la case satisfait ou la case non-satisfait ou neutre. Pour expliquer le dérouler j'ai séparer le projet en 5 parties :\n",
    "- Chapitre 1 : analyse des données\n",
    "- Chapitre 2 : Graphiques exploratoires\n",
    "- Chapitre 3 : Essai de plusieurs modèles et choix de l'un d'entre eux\n",
    "- Chapitre 4 : Prédiction à l'aide du modèle choisi\n",
    "- Chapitre 5 : Conclusion\n",
    "\n",
    "La partie analyse des données ma permis de mettre en avant que certaines features du jeu de donnée mis à disposition avaient plus d'influence sur la satisfaction que d'autres. Par exemple le **divertissement en vol** est une donnée importante pour le consommateur. On peux aussi considérer quelques autres données comme la **facilité de réservation** (Ease_of_Online_booking), **le support en ligne** (Online_support) et **le service à bord** (On_board_service) sont des variables qui jouent un rôle important dans la satisfaction. Finalement on vois que c'est surtout les features liées au service qui joue un rôle plus que les features \"physique\" comme la propreté, la place des jambes, etc ... Ceci est ce que l'on peux voir pour les données numériques toute la partie du formulaire lié aux notes.\n",
    "\n",
    "\n",
    "La partie catégorielle des données nous permet de mettre en avant des profils d'utilisateur et on vois avec la heatmap lié au test chi2 que certains profils ont plus d'effets sur la satisfaction que d'autres. L'age est écarté plus en amont avec le test Anova. Tout ça nous permet de créer des persona éventuellement des personnes qui sont susceptibles ou non d'être satisfait.\n",
    "\n",
    "\n",
    "La partie graphique nous permet de voir la répartition de la population questionner. On remarque qu'il y a des personnes en dessous de 10 ans \n",
    "\n",
    "\n"
   ]
  }
 ],
 "metadata": {
  "language_info": {
   "name": "python"
  },
  "orig_nbformat": 4
 },
 "nbformat": 4,
 "nbformat_minor": 2
}
