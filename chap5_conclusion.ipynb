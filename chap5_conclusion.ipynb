{
 "cells": [
  {
   "attachments": {},
   "cell_type": "markdown",
   "metadata": {},
   "source": [
    "# Chapitre 5 : Conclusion\n",
    "\n",
    "Le but du projet était de pouvoir d'après un type de personne et les notes d'évaluation qu'il donnait, si la personne allait cocher la case \"satisfait\" ou la case \"non-satisfait ou neutre\". Pour expliquer le dérouler j'ai séparé le projet en 5 parties :\n",
    "- Chapitre 1 : analyse des données\n",
    "- Chapitre 2 : Graphiques exploratoires\n",
    "- Chapitre 3 : Essai de plusieurs modèles et choix de l'un d'entre eux\n",
    "- Chapitre 4 : Prédiction à l'aide du modèle choisi\n",
    "- Chapitre 5 : Conclusion\n",
    "\n",
    "La partie analyse des données m'a permis de mettre en avant que certaines features du jeu de données mis à disposition avaient plus d'influence sur la satisfaction que d'autres. Par exemple le **divertissement en vol** est une donnée importante pour le consommateur. On peut aussi considérer quelques autres données comme la **facilité de réservation** (Ease_of_Online_booking), **le support en ligne** (Online_support) et **le service à bord** (On_board_service) sont des variables qui jouent un rôle important dans la satisfaction. Finalement on voit que c'est surtout les features liées au service qui joue un rôle plus que les features \"physique\" comme la propreté, la place des jambes, etc ... Ceci est ce que l'on peut voir pour les données numériques toute la partie du formulaire lié aux notes.\n",
    "\n",
    "\n",
    "La partie catégorielle des données nous permet de mettre en avant des profils d'utilisateur et on voit avec la heatmap liée au test chi2 que certains profils ont plus d'effets sur la satisfaction que d'autres. L'âge est écarté plus en amont avec le test Anova. Tout ça nous permet de créer des persona éventuellement des personnes qui sont susceptibles ou non d'être satisfait.\n",
    "\n",
    "\n",
    "La partie graphique nous permet de voir la répartition de la population questionner. On remarque qu'il y a des personnes en dessous de 10 ans qui ont répondu au questionnaire, c'est peut-être une erreur qui n'a pas été prise en compte dans le reste du projet car l'on a vu plus haut que l'âge n'intervient pas ou peu dans la prédiction de la satisfaction. On peut faire aussi quelques autres déductions dans les graphiques :\n",
    "- la répartition homme/femme est assez équilibrée \n",
    "- la plupart des personnes ayant répondu au questionnaire sont des consommateurs fidèles (~86%)\n",
    "- environ 70% des voyages sont des voyages d'affaires\n",
    "- la satisfaction est d'environ 57%\n",
    "- les classes ne sont pas bien équilibrées, la classe eco+ ne rencontre pas sa cible\n",
    "\n",
    "\n",
    "On peut voir avec les boîtes a moustache que la satisfaction en fonction de la moyenne des notes est finalement très sérrée. Il n'y à pas un grand gap entre les notes de quelqu'un qui mettrait satisfait et quelqu'un qui mettrait non satisfait. On peut aussi voir que le divertissement en vol, la facilité de réservation et le support en ligne ont une grande importance dans le fait d'être satisfait.\n",
    "\n",
    "\n",
    "Les chapitres 3 et 4 nous permettent de choisir un modèle de machine learning afin de prédire la satisfaction ou non d'un utilisateur. La problématique est plutôt une problématique de classification. Le RandomForestClassifier est le modèle qui promet les meilleurs résultats et qui nous permet de prédire la satisfaction ou non.\n",
    "\n"
   ]
  }
 ],
 "metadata": {
  "language_info": {
   "name": "python"
  },
  "orig_nbformat": 4
 },
 "nbformat": 4,
 "nbformat_minor": 2
}
