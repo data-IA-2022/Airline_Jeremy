{
 "cells": [
  {
   "attachments": {},
   "cell_type": "markdown",
   "metadata": {},
   "source": [
    "# Modélisation"
   ]
  },
  {
   "attachments": {},
   "cell_type": "markdown",
   "metadata": {},
   "source": [
    "## Définition de notre X(données) et y(target)"
   ]
  },
  {
   "cell_type": "code",
   "execution_count": 28,
   "metadata": {},
   "outputs": [
    {
     "name": "stdout",
     "output_type": "stream",
     "text": [
      "Colonnes numériques : ['Age', 'Flight_Distance', 'Seat_comfort', 'Departure_Arrival_time_convenient', 'Food_and_drink', 'Gate_location', 'Inflight_wifi_service', 'Inflight_entertainment', 'Online_support', 'Ease_of_Online_booking', 'On_board_service', 'Leg_room_service', 'Baggage_handling', 'Checkin_service', 'Cleanliness', 'Online_boarding', 'Departure_Delay_in_Minutes', 'Arrival_Delay_in_Minutes']\n",
      "Colonnes catégorielles : ['Satisfaction', 'Gender', 'Customer_Type', 'Type_of_Travel', 'Class']\n"
     ]
    }
   ],
   "source": [
    "df_pour_modelisation = df_graph.copy()\n",
    "df_pour_modelisation = df_pour_modelisation.dropna()\n",
    "\n",
    "print(f'Colonnes numériques : {colonnes_num}')\n",
    "print(f'Colonnes catégorielles : {colonnes_cat}')"
   ]
  },
  {
   "cell_type": "code",
   "execution_count": 29,
   "metadata": {},
   "outputs": [
    {
     "name": "stdout",
     "output_type": "stream",
     "text": [
      "La longueur du dataset de base : 129487\n",
      "La longueur du dataset d'entraînement : 90640\n",
      "La longueur du dataset de test : 38847\n"
     ]
    }
   ],
   "source": [
    "y = df_pour_modelisation['Satisfaction']\n",
    "X = df_pour_modelisation.drop(['Satisfaction'], axis=1)\n",
    "\n",
    "X_train, X_test, y_train, y_test = train_test_split(X, y, test_size=0.3, random_state=10)\n",
    "\n",
    "print(\"La longueur du dataset de base :\", len(X))\n",
    "print(\"La longueur du dataset d'entraînement :\", len(X_train))\n",
    "print(\"La longueur du dataset de test :\", len(X_test))"
   ]
  },
  {
   "attachments": {},
   "cell_type": "markdown",
   "metadata": {},
   "source": [
    "## Création de l'étape preparation du pipeline"
   ]
  },
  {
   "cell_type": "code",
   "execution_count": 30,
   "metadata": {},
   "outputs": [],
   "source": [
    "preparation = ColumnTransformer(\n",
    "    transformers=[       \n",
    "        ('data_cat',\n",
    "         OneHotEncoder(handle_unknown='ignore'), ['Gender', 'Customer_Type', 'Type_of_Travel', 'Class']),\n",
    "        ('data_num',\n",
    "         StandardScaler(),colonnes_num),         \n",
    "    ])\n",
    "\n",
    "#Création du pipeline\n",
    "model_lm = Pipeline([('scaler', preparation),\n",
    "                        ('classifier',RandomForestRegressor())])"
   ]
  },
  {
   "attachments": {},
   "cell_type": "markdown",
   "metadata": {},
   "source": [
    "## Entraînement du modèle"
   ]
  },
  {
   "cell_type": "code",
   "execution_count": 31,
   "metadata": {},
   "outputs": [
    {
     "data": {
      "text/html": [
       "<style>#sk-container-id-1 {color: black;background-color: white;}#sk-container-id-1 pre{padding: 0;}#sk-container-id-1 div.sk-toggleable {background-color: white;}#sk-container-id-1 label.sk-toggleable__label {cursor: pointer;display: block;width: 100%;margin-bottom: 0;padding: 0.3em;box-sizing: border-box;text-align: center;}#sk-container-id-1 label.sk-toggleable__label-arrow:before {content: \"▸\";float: left;margin-right: 0.25em;color: #696969;}#sk-container-id-1 label.sk-toggleable__label-arrow:hover:before {color: black;}#sk-container-id-1 div.sk-estimator:hover label.sk-toggleable__label-arrow:before {color: black;}#sk-container-id-1 div.sk-toggleable__content {max-height: 0;max-width: 0;overflow: hidden;text-align: left;background-color: #f0f8ff;}#sk-container-id-1 div.sk-toggleable__content pre {margin: 0.2em;color: black;border-radius: 0.25em;background-color: #f0f8ff;}#sk-container-id-1 input.sk-toggleable__control:checked~div.sk-toggleable__content {max-height: 200px;max-width: 100%;overflow: auto;}#sk-container-id-1 input.sk-toggleable__control:checked~label.sk-toggleable__label-arrow:before {content: \"▾\";}#sk-container-id-1 div.sk-estimator input.sk-toggleable__control:checked~label.sk-toggleable__label {background-color: #d4ebff;}#sk-container-id-1 div.sk-label input.sk-toggleable__control:checked~label.sk-toggleable__label {background-color: #d4ebff;}#sk-container-id-1 input.sk-hidden--visually {border: 0;clip: rect(1px 1px 1px 1px);clip: rect(1px, 1px, 1px, 1px);height: 1px;margin: -1px;overflow: hidden;padding: 0;position: absolute;width: 1px;}#sk-container-id-1 div.sk-estimator {font-family: monospace;background-color: #f0f8ff;border: 1px dotted black;border-radius: 0.25em;box-sizing: border-box;margin-bottom: 0.5em;}#sk-container-id-1 div.sk-estimator:hover {background-color: #d4ebff;}#sk-container-id-1 div.sk-parallel-item::after {content: \"\";width: 100%;border-bottom: 1px solid gray;flex-grow: 1;}#sk-container-id-1 div.sk-label:hover label.sk-toggleable__label {background-color: #d4ebff;}#sk-container-id-1 div.sk-serial::before {content: \"\";position: absolute;border-left: 1px solid gray;box-sizing: border-box;top: 0;bottom: 0;left: 50%;z-index: 0;}#sk-container-id-1 div.sk-serial {display: flex;flex-direction: column;align-items: center;background-color: white;padding-right: 0.2em;padding-left: 0.2em;position: relative;}#sk-container-id-1 div.sk-item {position: relative;z-index: 1;}#sk-container-id-1 div.sk-parallel {display: flex;align-items: stretch;justify-content: center;background-color: white;position: relative;}#sk-container-id-1 div.sk-item::before, #sk-container-id-1 div.sk-parallel-item::before {content: \"\";position: absolute;border-left: 1px solid gray;box-sizing: border-box;top: 0;bottom: 0;left: 50%;z-index: -1;}#sk-container-id-1 div.sk-parallel-item {display: flex;flex-direction: column;z-index: 1;position: relative;background-color: white;}#sk-container-id-1 div.sk-parallel-item:first-child::after {align-self: flex-end;width: 50%;}#sk-container-id-1 div.sk-parallel-item:last-child::after {align-self: flex-start;width: 50%;}#sk-container-id-1 div.sk-parallel-item:only-child::after {width: 0;}#sk-container-id-1 div.sk-dashed-wrapped {border: 1px dashed gray;margin: 0 0.4em 0.5em 0.4em;box-sizing: border-box;padding-bottom: 0.4em;background-color: white;}#sk-container-id-1 div.sk-label label {font-family: monospace;font-weight: bold;display: inline-block;line-height: 1.2em;}#sk-container-id-1 div.sk-label-container {text-align: center;}#sk-container-id-1 div.sk-container {/* jupyter's `normalize.less` sets `[hidden] { display: none; }` but bootstrap.min.css set `[hidden] { display: none !important; }` so we also need the `!important` here to be able to override the default hidden behavior on the sphinx rendered scikit-learn.org. See: https://github.com/scikit-learn/scikit-learn/issues/21755 */display: inline-block !important;position: relative;}#sk-container-id-1 div.sk-text-repr-fallback {display: none;}</style><div id=\"sk-container-id-1\" class=\"sk-top-container\"><div class=\"sk-text-repr-fallback\"><pre>Pipeline(steps=[(&#x27;scaler&#x27;,\n",
       "                 ColumnTransformer(transformers=[(&#x27;data_cat&#x27;,\n",
       "                                                  OneHotEncoder(handle_unknown=&#x27;ignore&#x27;),\n",
       "                                                  [&#x27;Gender&#x27;, &#x27;Customer_Type&#x27;,\n",
       "                                                   &#x27;Type_of_Travel&#x27;, &#x27;Class&#x27;]),\n",
       "                                                 (&#x27;data_num&#x27;, StandardScaler(),\n",
       "                                                  [&#x27;Age&#x27;, &#x27;Flight_Distance&#x27;,\n",
       "                                                   &#x27;Seat_comfort&#x27;,\n",
       "                                                   &#x27;Departure_Arrival_time_convenient&#x27;,\n",
       "                                                   &#x27;Food_and_drink&#x27;,\n",
       "                                                   &#x27;Gate_location&#x27;,\n",
       "                                                   &#x27;Inflight_wifi_service&#x27;,\n",
       "                                                   &#x27;Inflight_entertainment&#x27;,\n",
       "                                                   &#x27;Online_support&#x27;,\n",
       "                                                   &#x27;Ease_of_Online_booking&#x27;,\n",
       "                                                   &#x27;On_board_service&#x27;,\n",
       "                                                   &#x27;Leg_room_service&#x27;,\n",
       "                                                   &#x27;Baggage_handling&#x27;,\n",
       "                                                   &#x27;Checkin_service&#x27;,\n",
       "                                                   &#x27;Cleanliness&#x27;,\n",
       "                                                   &#x27;Online_boarding&#x27;,\n",
       "                                                   &#x27;Departure_Delay_in_Minutes&#x27;,\n",
       "                                                   &#x27;Arrival_Delay_in_Minutes&#x27;])])),\n",
       "                (&#x27;classifier&#x27;, RandomForestRegressor())])</pre><b>In a Jupyter environment, please rerun this cell to show the HTML representation or trust the notebook. <br />On GitHub, the HTML representation is unable to render, please try loading this page with nbviewer.org.</b></div><div class=\"sk-container\" hidden><div class=\"sk-item sk-dashed-wrapped\"><div class=\"sk-label-container\"><div class=\"sk-label sk-toggleable\"><input class=\"sk-toggleable__control sk-hidden--visually\" id=\"sk-estimator-id-1\" type=\"checkbox\" ><label for=\"sk-estimator-id-1\" class=\"sk-toggleable__label sk-toggleable__label-arrow\">Pipeline</label><div class=\"sk-toggleable__content\"><pre>Pipeline(steps=[(&#x27;scaler&#x27;,\n",
       "                 ColumnTransformer(transformers=[(&#x27;data_cat&#x27;,\n",
       "                                                  OneHotEncoder(handle_unknown=&#x27;ignore&#x27;),\n",
       "                                                  [&#x27;Gender&#x27;, &#x27;Customer_Type&#x27;,\n",
       "                                                   &#x27;Type_of_Travel&#x27;, &#x27;Class&#x27;]),\n",
       "                                                 (&#x27;data_num&#x27;, StandardScaler(),\n",
       "                                                  [&#x27;Age&#x27;, &#x27;Flight_Distance&#x27;,\n",
       "                                                   &#x27;Seat_comfort&#x27;,\n",
       "                                                   &#x27;Departure_Arrival_time_convenient&#x27;,\n",
       "                                                   &#x27;Food_and_drink&#x27;,\n",
       "                                                   &#x27;Gate_location&#x27;,\n",
       "                                                   &#x27;Inflight_wifi_service&#x27;,\n",
       "                                                   &#x27;Inflight_entertainment&#x27;,\n",
       "                                                   &#x27;Online_support&#x27;,\n",
       "                                                   &#x27;Ease_of_Online_booking&#x27;,\n",
       "                                                   &#x27;On_board_service&#x27;,\n",
       "                                                   &#x27;Leg_room_service&#x27;,\n",
       "                                                   &#x27;Baggage_handling&#x27;,\n",
       "                                                   &#x27;Checkin_service&#x27;,\n",
       "                                                   &#x27;Cleanliness&#x27;,\n",
       "                                                   &#x27;Online_boarding&#x27;,\n",
       "                                                   &#x27;Departure_Delay_in_Minutes&#x27;,\n",
       "                                                   &#x27;Arrival_Delay_in_Minutes&#x27;])])),\n",
       "                (&#x27;classifier&#x27;, RandomForestRegressor())])</pre></div></div></div><div class=\"sk-serial\"><div class=\"sk-item sk-dashed-wrapped\"><div class=\"sk-label-container\"><div class=\"sk-label sk-toggleable\"><input class=\"sk-toggleable__control sk-hidden--visually\" id=\"sk-estimator-id-2\" type=\"checkbox\" ><label for=\"sk-estimator-id-2\" class=\"sk-toggleable__label sk-toggleable__label-arrow\">scaler: ColumnTransformer</label><div class=\"sk-toggleable__content\"><pre>ColumnTransformer(transformers=[(&#x27;data_cat&#x27;,\n",
       "                                 OneHotEncoder(handle_unknown=&#x27;ignore&#x27;),\n",
       "                                 [&#x27;Gender&#x27;, &#x27;Customer_Type&#x27;, &#x27;Type_of_Travel&#x27;,\n",
       "                                  &#x27;Class&#x27;]),\n",
       "                                (&#x27;data_num&#x27;, StandardScaler(),\n",
       "                                 [&#x27;Age&#x27;, &#x27;Flight_Distance&#x27;, &#x27;Seat_comfort&#x27;,\n",
       "                                  &#x27;Departure_Arrival_time_convenient&#x27;,\n",
       "                                  &#x27;Food_and_drink&#x27;, &#x27;Gate_location&#x27;,\n",
       "                                  &#x27;Inflight_wifi_service&#x27;,\n",
       "                                  &#x27;Inflight_entertainment&#x27;, &#x27;Online_support&#x27;,\n",
       "                                  &#x27;Ease_of_Online_booking&#x27;, &#x27;On_board_service&#x27;,\n",
       "                                  &#x27;Leg_room_service&#x27;, &#x27;Baggage_handling&#x27;,\n",
       "                                  &#x27;Checkin_service&#x27;, &#x27;Cleanliness&#x27;,\n",
       "                                  &#x27;Online_boarding&#x27;,\n",
       "                                  &#x27;Departure_Delay_in_Minutes&#x27;,\n",
       "                                  &#x27;Arrival_Delay_in_Minutes&#x27;])])</pre></div></div></div><div class=\"sk-parallel\"><div class=\"sk-parallel-item\"><div class=\"sk-item\"><div class=\"sk-label-container\"><div class=\"sk-label sk-toggleable\"><input class=\"sk-toggleable__control sk-hidden--visually\" id=\"sk-estimator-id-3\" type=\"checkbox\" ><label for=\"sk-estimator-id-3\" class=\"sk-toggleable__label sk-toggleable__label-arrow\">data_cat</label><div class=\"sk-toggleable__content\"><pre>[&#x27;Gender&#x27;, &#x27;Customer_Type&#x27;, &#x27;Type_of_Travel&#x27;, &#x27;Class&#x27;]</pre></div></div></div><div class=\"sk-serial\"><div class=\"sk-item\"><div class=\"sk-estimator sk-toggleable\"><input class=\"sk-toggleable__control sk-hidden--visually\" id=\"sk-estimator-id-4\" type=\"checkbox\" ><label for=\"sk-estimator-id-4\" class=\"sk-toggleable__label sk-toggleable__label-arrow\">OneHotEncoder</label><div class=\"sk-toggleable__content\"><pre>OneHotEncoder(handle_unknown=&#x27;ignore&#x27;)</pre></div></div></div></div></div></div><div class=\"sk-parallel-item\"><div class=\"sk-item\"><div class=\"sk-label-container\"><div class=\"sk-label sk-toggleable\"><input class=\"sk-toggleable__control sk-hidden--visually\" id=\"sk-estimator-id-5\" type=\"checkbox\" ><label for=\"sk-estimator-id-5\" class=\"sk-toggleable__label sk-toggleable__label-arrow\">data_num</label><div class=\"sk-toggleable__content\"><pre>[&#x27;Age&#x27;, &#x27;Flight_Distance&#x27;, &#x27;Seat_comfort&#x27;, &#x27;Departure_Arrival_time_convenient&#x27;, &#x27;Food_and_drink&#x27;, &#x27;Gate_location&#x27;, &#x27;Inflight_wifi_service&#x27;, &#x27;Inflight_entertainment&#x27;, &#x27;Online_support&#x27;, &#x27;Ease_of_Online_booking&#x27;, &#x27;On_board_service&#x27;, &#x27;Leg_room_service&#x27;, &#x27;Baggage_handling&#x27;, &#x27;Checkin_service&#x27;, &#x27;Cleanliness&#x27;, &#x27;Online_boarding&#x27;, &#x27;Departure_Delay_in_Minutes&#x27;, &#x27;Arrival_Delay_in_Minutes&#x27;]</pre></div></div></div><div class=\"sk-serial\"><div class=\"sk-item\"><div class=\"sk-estimator sk-toggleable\"><input class=\"sk-toggleable__control sk-hidden--visually\" id=\"sk-estimator-id-6\" type=\"checkbox\" ><label for=\"sk-estimator-id-6\" class=\"sk-toggleable__label sk-toggleable__label-arrow\">StandardScaler</label><div class=\"sk-toggleable__content\"><pre>StandardScaler()</pre></div></div></div></div></div></div></div></div><div class=\"sk-item\"><div class=\"sk-estimator sk-toggleable\"><input class=\"sk-toggleable__control sk-hidden--visually\" id=\"sk-estimator-id-7\" type=\"checkbox\" ><label for=\"sk-estimator-id-7\" class=\"sk-toggleable__label sk-toggleable__label-arrow\">RandomForestRegressor</label><div class=\"sk-toggleable__content\"><pre>RandomForestRegressor()</pre></div></div></div></div></div></div></div>"
      ],
      "text/plain": [
       "Pipeline(steps=[('scaler',\n",
       "                 ColumnTransformer(transformers=[('data_cat',\n",
       "                                                  OneHotEncoder(handle_unknown='ignore'),\n",
       "                                                  ['Gender', 'Customer_Type',\n",
       "                                                   'Type_of_Travel', 'Class']),\n",
       "                                                 ('data_num', StandardScaler(),\n",
       "                                                  ['Age', 'Flight_Distance',\n",
       "                                                   'Seat_comfort',\n",
       "                                                   'Departure_Arrival_time_convenient',\n",
       "                                                   'Food_and_drink',\n",
       "                                                   'Gate_location',\n",
       "                                                   'Inflight_wifi_service',\n",
       "                                                   'Inflight_entertainment',\n",
       "                                                   'Online_support',\n",
       "                                                   'Ease_of_Online_booking',\n",
       "                                                   'On_board_service',\n",
       "                                                   'Leg_room_service',\n",
       "                                                   'Baggage_handling',\n",
       "                                                   'Checkin_service',\n",
       "                                                   'Cleanliness',\n",
       "                                                   'Online_boarding',\n",
       "                                                   'Departure_Delay_in_Minutes',\n",
       "                                                   'Arrival_Delay_in_Minutes'])])),\n",
       "                ('classifier', RandomForestRegressor())])"
      ]
     },
     "execution_count": 31,
     "metadata": {},
     "output_type": "execute_result"
    }
   ],
   "source": [
    "# Entraînement du modèle\n",
    "model_lm.fit(X_train, y_train)"
   ]
  },
  {
   "attachments": {},
   "cell_type": "markdown",
   "metadata": {},
   "source": [
    "## Prédiction sur les données test"
   ]
  },
  {
   "cell_type": "code",
   "execution_count": 32,
   "metadata": {},
   "outputs": [
    {
     "name": "stdout",
     "output_type": "stream",
     "text": [
      "La moyenne : 0.5511390840991582\n",
      "La médiane : 0.79\n",
      "r2_score : 87.54%\n",
      "Le client est content\n"
     ]
    }
   ],
   "source": [
    "# Prédiction sur les données test\n",
    "y_pred = model_lm.predict(X_test)\n",
    "\n",
    "print(f\"La moyenne : {y_pred.mean()}\")\n",
    "print(f\"La médiane : {np.median(y_pred)}\")\n",
    "\n",
    "print(f\"r2_score : {r2_score(y_test, y_pred)*100:.2f}%\")\n",
    "\n",
    "if y_pred.mean() >= 0.5:\n",
    "    print('Le client est content')\n",
    "else:\n",
    "    print(\"Le client n'est pas content\")"
   ]
  }
 ],
 "metadata": {
  "kernelspec": {
   "display_name": "env_sentiment_analysis",
   "language": "python",
   "name": "python3"
  },
  "language_info": {
   "codemirror_mode": {
    "name": "ipython",
    "version": 3
   },
   "file_extension": ".py",
   "mimetype": "text/x-python",
   "name": "python",
   "nbconvert_exporter": "python",
   "pygments_lexer": "ipython3",
   "version": "3.11.0rc1"
  },
  "orig_nbformat": 4
 },
 "nbformat": 4,
 "nbformat_minor": 2
}
